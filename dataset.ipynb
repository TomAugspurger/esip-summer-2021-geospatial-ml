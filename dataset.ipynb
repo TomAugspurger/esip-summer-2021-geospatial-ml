{
 "cells": [
  {
   "cell_type": "code",
   "execution_count": 1,
   "id": "8fabb188-ca6c-40da-a05a-c94f68688b5f",
   "metadata": {},
   "outputs": [],
   "source": [
    "import pystac\n",
    "import pystac_client\n",
    "import requests\n",
    "import shapely.geometry\n",
    "import datetime\n",
    "import rioxarray\n",
    "import pystac_client\n",
    "import planetary_computer\n",
    "import stackstac\n",
    "import torch\n",
    "import requests\n",
    "import torch.utils.data"
   ]
  },
  {
   "cell_type": "code",
   "execution_count": 3,
   "id": "8e4ae451-16c5-4d1b-8c48-cd16cd635fb5",
   "metadata": {},
   "outputs": [
    {
     "data": {
      "text/plain": [
       "{'0': 'No Data',\n",
       " '1': 'Lucerne/Medics',\n",
       " '2': 'Planted pastures (perennial)',\n",
       " '3': 'Fallow',\n",
       " '4': 'Wine grapes',\n",
       " '5': 'Weeds',\n",
       " '6': 'Small grain grazing',\n",
       " '7': 'Wheat',\n",
       " '8': 'Canola',\n",
       " '9': 'Rooibos'}"
      ]
     },
     "execution_count": 3,
     "metadata": {},
     "output_type": "execute_result"
    }
   ],
   "source": [
    "training_catalog = pystac.read_file(\"https://esip2021.blob.core.windows.net/esip2021/train/collection.json\")\n",
    "training_catalog\n",
    "\n",
    "label_items = list(training_catalog.get_all_items())\n",
    "labels = requests.get(label_items[0].assets['raster_values'].get_absolute_href()).json()\n",
    "labels"
   ]
  },
  {
   "cell_type": "code",
   "execution_count": 4,
   "id": "4c2d65c6-86e9-4814-8965-5f39dfbf1811",
   "metadata": {},
   "outputs": [],
   "source": [
    "def get_item(label_item, assets):\n",
    "    stac = pystac_client.Client.open(\n",
    "        \"https://planetarycomputer-staging.microsoft.com/api/stac/v1/\"\n",
    "    )\n",
    "    labels = rioxarray.open_rasterio(\n",
    "        label_item.assets['labels'].get_absolute_href()\n",
    "    ).squeeze()\n",
    "\n",
    "    month = datetime.timedelta(days=31)\n",
    "    label_date = label_item.datetime\n",
    "    date_range = f\"{label_date - month:%Y-%m-%d}/{label_date + month:%Y-%m-%d}\"\n",
    "\n",
    "    search = stac.search(collections=[\"sentinel-2-l2a\"], intersects=label_item.geometry, limit=500, datetime=date_range)\n",
    "    items = list(search.get_all_items())\n",
    "    # TODO: what if a label raster spans a sentinel scene?\n",
    "    sentinel_item = sorted(\n",
    "        items,\n",
    "        key=lambda item: pystac.extensions.eo.EOExtension.ext(item).cloud_cover\n",
    "    )[0]\n",
    "\n",
    "    sentinel_item = sorted(\n",
    "        items,\n",
    "        key=lambda item: pystac.extensions.eo.EOExtension.ext(item).cloud_cover\n",
    "    )[0]\n",
    "\n",
    "    bounds = tuple(round(x, 0) for x in labels.rio.bounds())\n",
    "\n",
    "    data = stackstac.stack(\n",
    "        planetary_computer.sign(sentinel_item).to_dict(),\n",
    "        assets=assets, dtype=\"float32\", resolution=10,\n",
    "        bounds=bounds, epsg=labels.rio.crs.to_epsg()\n",
    "    ).squeeze()\n",
    "    #where(lambda x: x > 0).squeeze()\n",
    "\n",
    "    assert data.shape[1:] == labels.shape\n",
    "    data = data.assign_coords(x=labels.x.data, y=labels.y.data)\n",
    "    return data.compute(), labels\n",
    "\n",
    "\n",
    "class STACDataset(torch.utils.data.Dataset):\n",
    "    def __init__(self, label_items, labels, assets):\n",
    "        self.label_items = label_items\n",
    "        self.labels = labels\n",
    "        self.assets = assets\n",
    "\n",
    "    def __len__(self):\n",
    "        return len(self.label_items)\n",
    "\n",
    "    def __getitem__(self, idx):\n",
    "        label_item = self.label_items[idx]\n",
    "        X, y = get_item(label_item, assets=self.assets)\n",
    "        # TODO: Who should handle device stuff?\n",
    "        X = torch.as_tensor(X.data)\n",
    "        y = torch.as_tensor(y.data)\n",
    "        return X, y\n",
    "    "
   ]
  },
  {
   "cell_type": "code",
   "execution_count": 6,
   "id": "e2a1502e-01d7-493f-b1b2-19c29cc48a67",
   "metadata": {},
   "outputs": [],
   "source": [
    "dataset = STACDataset(label_items, labels, assets=[\"B05\", \"B04\", \"B03\"])"
   ]
  },
  {
   "cell_type": "code",
   "execution_count": 8,
   "id": "96de31be-54ba-4d48-b4a2-085c92584a63",
   "metadata": {},
   "outputs": [],
   "source": [
    "import segmentation_models_pytorch as smp\n",
    "import torch\n",
    "\n",
    "model = smp.Unet(\n",
    "    encoder_name=\"resnet34\",        # choose encoder, e.g. mobilenet_v2 or efficientnet-b7\n",
    "    encoder_weights=\"imagenet\",     # use `imagenet` pre-trained weights for encoder initialization\n",
    "    in_channels=3,                  # model input channels (1 for gray-scale images, 3 for RGB, etc.)\n",
    "    classes=len(labels),            # model output channels (number of classes in your dataset)\n",
    ")\n",
    "\n",
    "loss = smp.utils.losses.DiceLoss()\n",
    "optimizer = torch.optim.Adam(list(model.parameters()))\n",
    "metrics = [\n",
    "    smp.utils.metrics.IoU(threshold=0.5),\n",
    "]\n",
    "\n",
    "train_epoch = smp.utils.train.TrainEpoch(\n",
    "    model, \n",
    "    loss=loss, \n",
    "    metrics=metrics, \n",
    "    optimizer=optimizer,\n",
    "    device=\"cuda\",\n",
    "    verbose=True,\n",
    ")"
   ]
  },
  {
   "cell_type": "code",
   "execution_count": 9,
   "id": "5bc59ca1-6caf-4578-ab66-9431b14df471",
   "metadata": {},
   "outputs": [
    {
     "data": {
      "text/plain": [
       "<torch.utils.data.dataloader.DataLoader at 0x7f92f965ddf0>"
      ]
     },
     "execution_count": 9,
     "metadata": {},
     "output_type": "execute_result"
    }
   ],
   "source": [
    "loader = torch.utils.data.DataLoader(dataset)\n",
    "loader"
   ]
  },
  {
   "cell_type": "code",
   "execution_count": 10,
   "id": "f7d93a4e-4141-4f9d-9276-ac1e9d56fc7f",
   "metadata": {},
   "outputs": [
    {
     "name": "stdout",
     "output_type": "stream",
     "text": [
      "train: 100%|██████████| 20/20 [00:38<00:00,  1.91s/it, dice_loss - -0.2206, iou_score - -4.221] \n",
      "CPU times: user 7.86 s, sys: 9.24 s, total: 17.1 s\n",
      "Wall time: 38.3 s\n"
     ]
    },
    {
     "data": {
      "text/plain": [
       "{'dice_loss': -0.22060589194297786, 'iou_score': -4.2208037581294775}"
      ]
     },
     "execution_count": 10,
     "metadata": {},
     "output_type": "execute_result"
    }
   ],
   "source": [
    "%time train_epoch.run(loader)"
   ]
  },
  {
   "cell_type": "code",
   "execution_count": 11,
   "id": "55c51c96-1143-40c0-8feb-9501410df5dd",
   "metadata": {},
   "outputs": [],
   "source": [
    "X, y = dataset[0]"
   ]
  },
  {
   "cell_type": "code",
   "execution_count": 12,
   "id": "7eb26bde-6b3c-40a8-a298-ba3eb607a5de",
   "metadata": {},
   "outputs": [],
   "source": [
    "X2 = (X.reshape((1,) + X.shape)).to(\"cuda\")"
   ]
  },
  {
   "cell_type": "code",
   "execution_count": 13,
   "id": "3598b7e8-10e7-4dbe-9994-10d43698c83e",
   "metadata": {},
   "outputs": [],
   "source": [
    "output = model.predict(X2)"
   ]
  },
  {
   "cell_type": "code",
   "execution_count": 14,
   "id": "8eebf35e-3621-4061-bb21-3f76e02e8993",
   "metadata": {},
   "outputs": [],
   "source": [
    "import rasterio.plot\n",
    "import numpy as np"
   ]
  },
  {
   "cell_type": "code",
   "execution_count": 15,
   "id": "4711aff1-af24-4681-983a-a16e634e72b2",
   "metadata": {},
   "outputs": [
    {
     "data": {
      "image/png": "[encoded data removed]",
      "text/plain": [
       "<Figure size 432x288 with 1 Axes>"
      ]
     },
     "metadata": {
      "needs_background": "light"
     },
     "output_type": "display_data"
    }
   ],
   "source": [
    "rasterio.plot.show(np.asarray(output[0].argmax(0).to(\"cpu\")));"
   ]
  },
  {
   "cell_type": "code",
   "execution_count": 16,
   "id": "768a9a5f-e8b6-4098-be03-41d51d20ceb3",
   "metadata": {},
   "outputs": [
    {
     "data": {
      "image/png": "[encoded data removed]",
      "text/plain": [
       "<Figure size 432x288 with 1 Axes>"
      ]
     },
     "metadata": {
      "needs_background": "light"
     },
     "output_type": "display_data"
    }
   ],
   "source": [
    "rasterio.plot.show(y.to(\"cpu\"));"
   ]
  },
  {
   "cell_type": "markdown",
   "id": "85b9cb93-9140-4471-8e9d-8dd7b68ec91b",
   "metadata": {},
   "source": [
    "Hmm doesn't seem great. Bad data? More epochs? More data? Bad architechture?"
   ]
  }
 ],
 "metadata": {
  "kernelspec": {
   "display_name": "Python 3 (ipykernel)",
   "language": "python",
   "name": "python3"
  },
  "language_info": {
   "codemirror_mode": {
    "name": "ipython",
    "version": 3
   },
   "file_extension": ".py",
   "mimetype": "text/x-python",
   "name": "python",
   "nbconvert_exporter": "python",
   "pygments_lexer": "ipython3",
   "version": "3.8.10"
  }
 },
 "nbformat": 4,
 "nbformat_minor": 5
}
