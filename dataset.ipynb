{
 "cells": [
  {
   "cell_type": "markdown",
   "id": "ca1afed6-aa67-4a04-84a9-20096d8800c4",
   "metadata": {},
   "source": [
    "## Train a Segmentation Model\n",
    "\n",
    "This notebook trains a segmentation model on some Sentinel-2 data using crop labels from Radiant Earth's [South Africa Crop Type Competition](http://registry.mlhub.earth/10.34911/rdnt.j0co8q/)."
   ]
  },
  {
   "cell_type": "code",
   "execution_count": 1,
   "id": "8fabb188-ca6c-40da-a05a-c94f68688b5f",
   "metadata": {},
   "outputs": [],
   "source": [
    "import pystac\n",
    "import pystac_client\n",
    "import requests\n",
    "import shapely.geometry\n",
    "import datetime\n",
    "import rioxarray\n",
    "import pystac_client\n",
    "import planetary_computer\n",
    "import stackstac\n",
    "import torch\n",
    "import requests\n",
    "import torch.utils.data\n",
    "import functools\n",
    "import rasterio.plot\n",
    "\n",
    "import warnings\n",
    "warnings.filterwarnings(\"ignore\", \"Creating an ndarray from ragged\")"
   ]
  },
  {
   "cell_type": "markdown",
   "id": "40938b79-015c-4a0c-a933-1594f5435ab3",
   "metadata": {},
   "source": [
    "I made a STAC catalog for the label data."
   ]
  },
  {
   "cell_type": "code",
   "execution_count": 2,
   "id": "e46777a2-f2d2-4c12-9530-49bc16f3b62c",
   "metadata": {},
   "outputs": [],
   "source": [
    "training_catalog = pystac.read_file(\n",
    "    \"https://esip2021.blob.core.windows.net/esip2021/train/collection.json\"\n",
    ")"
   ]
  },
  {
   "cell_type": "markdown",
   "id": "2246fce3-d48f-48b6-8ae5-7c124dc62de7",
   "metadata": {},
   "source": [
    "Each Item is a single scene with one or more fields."
   ]
  },
  {
   "cell_type": "code",
   "execution_count": 3,
   "id": "cbbc6e41-dc6d-42d6-81b4-e2c37b7a30c5",
   "metadata": {},
   "outputs": [
    {
     "data": {
      "text/plain": [
       "<Item id=ref_south_africa_crops_competition_v1_train_labels_2587>"
      ]
     },
     "execution_count": 3,
     "metadata": {},
     "output_type": "execute_result"
    }
   ],
   "source": [
    "label_items = list(training_catalog.get_all_items())\n",
    "label_item = label_items[0]\n",
    "label_item"
   ]
  },
  {
   "cell_type": "code",
   "execution_count": 4,
   "id": "31de39ee-39cd-442b-94c2-a4fc636b2adf",
   "metadata": {},
   "outputs": [
    {
     "data": {
      "image/png": "[encoded data removed]",
      "text/plain": [
       "<Figure size 432x288 with 1 Axes>"
      ]
     },
     "metadata": {
      "needs_background": "light"
     },
     "output_type": "display_data"
    }
   ],
   "source": [
    "rasterio.plot.show(\n",
    "    rasterio.open(label_item.assets[\"labels\"].get_absolute_href())\n",
    ");"
   ]
  },
  {
   "cell_type": "markdown",
   "id": "0f22217f-011f-4cff-a343-74878748872a",
   "metadata": {},
   "source": [
    "They have links to the meaning of the class labels"
   ]
  },
  {
   "cell_type": "code",
   "execution_count": 5,
   "id": "0762bfd2-26b3-4500-aec9-73adb745557a",
   "metadata": {},
   "outputs": [
    {
     "data": {
      "text/plain": [
       "{'0': 'No Data',\n",
       " '1': 'Lucerne/Medics',\n",
       " '2': 'Planted pastures (perennial)',\n",
       " '3': 'Fallow',\n",
       " '4': 'Wine grapes',\n",
       " '5': 'Weeds',\n",
       " '6': 'Small grain grazing',\n",
       " '7': 'Wheat',\n",
       " '8': 'Canola',\n",
       " '9': 'Rooibos'}"
      ]
     },
     "execution_count": 5,
     "metadata": {},
     "output_type": "execute_result"
    }
   ],
   "source": [
    "labels = requests.get(label_items[0].assets['raster_values'].get_absolute_href()).json()\n",
    "labels"
   ]
  },
  {
   "cell_type": "markdown",
   "id": "fdeef835-b6b8-4655-bcd0-87721b688ba5",
   "metadata": {},
   "source": [
    "## Dataset / Dataloader\n",
    "\n",
    "We'll write a helper to load\n",
    "\n",
    "* the labels\n",
    "* a corresponding scene from sentinel, cropped and transformed to the same area and CRS as the labels"
   ]
  },
  {
   "cell_type": "code",
   "execution_count": 6,
   "id": "c2399ef7-016f-4270-b5a8-d1e82e7cacc7",
   "metadata": {},
   "outputs": [],
   "source": [
    "@functools.lru_cache()\n",
    "def get_item(label_item, assets):\n",
    "    assets = list(assets)\n",
    "    stac = pystac_client.Client.open(\n",
    "        \"https://planetarycomputer-staging.microsoft.com/api/stac/v1/\"\n",
    "    )\n",
    "    labels = rioxarray.open_rasterio(\n",
    "        label_item.assets['labels'].get_absolute_href()\n",
    "    ).squeeze()\n",
    "\n",
    "    month = datetime.timedelta(days=31)\n",
    "    label_date = label_item.datetime\n",
    "    date_range = f\"{label_date - month:%Y-%m-%d}/{label_date + month:%Y-%m-%d}\"\n",
    "\n",
    "    search = stac.search(collections=[\"sentinel-2-l2a\"], intersects=label_item.geometry, limit=500, datetime=date_range)\n",
    "    items = list(search.get_all_items())\n",
    "    # TODO: what if a label raster spans a sentinel scene?\n",
    "    sentinel_item = sorted(\n",
    "        items,\n",
    "        key=lambda item: pystac.extensions.eo.EOExtension.ext(item).cloud_cover\n",
    "    )[0]\n",
    "\n",
    "    sentinel_item = sorted(\n",
    "        items,\n",
    "        key=lambda item: pystac.extensions.eo.EOExtension.ext(item).cloud_cover\n",
    "    )[0]\n",
    "\n",
    "    bounds = tuple(round(x, 0) for x in labels.rio.bounds())\n",
    "\n",
    "    data = stackstac.stack(\n",
    "        planetary_computer.sign(sentinel_item).to_dict(),\n",
    "        assets=assets, dtype=\"float32\", resolution=10,\n",
    "        bounds=bounds, epsg=labels.rio.crs.to_epsg()\n",
    "    ).squeeze()\n",
    "    #where(lambda x: x > 0).squeeze()\n",
    "\n",
    "    assert data.shape[1:] == labels.shape\n",
    "    data = data.assign_coords(x=labels.x.data, y=labels.y.data)\n",
    "    return data.compute(), labels"
   ]
  },
  {
   "cell_type": "markdown",
   "id": "27519dd7-96e3-4310-94c4-acd5b482790c",
   "metadata": {},
   "source": [
    "We'll wrap that up in a small pytorch Dataset class:"
   ]
  },
  {
   "cell_type": "code",
   "execution_count": 7,
   "id": "6d9ee03e-bb99-41de-a15b-7416b8a22b71",
   "metadata": {},
   "outputs": [],
   "source": [
    "class STACDataset(torch.utils.data.Dataset):\n",
    "    def __init__(self, label_items, labels, assets):\n",
    "        self.label_items = label_items\n",
    "        self.labels = labels\n",
    "        self.assets = tuple(assets)\n",
    "\n",
    "    def __len__(self):\n",
    "        return len(self.label_items)\n",
    "\n",
    "    def __getitem__(self, idx):\n",
    "        label_item = self.label_items[idx]\n",
    "        X, y = get_item(label_item, assets=self.assets)\n",
    "        # TODO: Who should handle device stuff?\n",
    "        X = torch.as_tensor(X.data).to(\"cuda:0\")\n",
    "        y = torch.as_tensor(y.data.astype(\"int64\")).to(\"cuda:0\")\n",
    "        return X, y"
   ]
  },
  {
   "cell_type": "code",
   "execution_count": 8,
   "id": "e2a1502e-01d7-493f-b1b2-19c29cc48a67",
   "metadata": {},
   "outputs": [],
   "source": [
    "dataset = STACDataset(label_items, labels, assets=[\"B02\", \"B03\", \"B04\", \"B05\", \"B06\", \"B07\", \"B08\", \"B8A\", \"B09\", \"B11\", \"B12\"])\n",
    "loader = torch.utils.data.DataLoader(dataset)"
   ]
  },
  {
   "cell_type": "markdown",
   "id": "f136b85c-fa30-4973-9ec3-f3c31530f480",
   "metadata": {},
   "source": [
    "## Model Definition"
   ]
  },
  {
   "cell_type": "code",
   "execution_count": 9,
   "id": "96de31be-54ba-4d48-b4a2-085c92584a63",
   "metadata": {},
   "outputs": [],
   "source": [
    "import segmentation_models_pytorch as smp\n",
    "import torch\n",
    "\n",
    "model = smp.Unet(\n",
    "    in_channels=len(dataset.assets), # model input channels (1 for gray-scale images, 3 for RGB, etc.)\n",
    "    classes=len(labels),             # model output channels (number of classes in your dataset)\n",
    ")\n",
    "\n",
    "# loss = smp.losses.SoftCrossEntropyLoss(smooth_factor=0.1)\n",
    "loss = smp.utils.losses.CrossEntropyLoss()\n",
    "optimizer = torch.optim.Adam(list(model.parameters()))\n",
    "metrics = [\n",
    "    smp.utils.metrics.IoU(threshold=0.5),\n",
    "]\n",
    "\n",
    "train_epoch = smp.utils.train.TrainEpoch(\n",
    "    model,\n",
    "    loss=loss, \n",
    "    metrics=metrics, \n",
    "    optimizer=optimizer,\n",
    "    device=\"cuda:0\",\n",
    "    verbose=True,\n",
    ")"
   ]
  },
  {
   "cell_type": "markdown",
   "id": "d65ef507-786b-4cb6-8c96-1238fb97fbe5",
   "metadata": {},
   "source": [
    "## Training"
   ]
  },
  {
   "cell_type": "code",
   "execution_count": 10,
   "id": "f7d93a4e-4141-4f9d-9276-ac1e9d56fc7f",
   "metadata": {},
   "outputs": [
    {
     "name": "stdout",
     "output_type": "stream",
     "text": [
      "train: 100%|██████████| 20/20 [00:50<00:00,  2.51s/it, cross_entropy_loss - 2.12, iou_score - -2.117] \n",
      "train: 100%|██████████| 20/20 [00:01<00:00, 13.32it/s, cross_entropy_loss - 1.437, iou_score - 1.709] \n",
      "train: 100%|██████████| 20/20 [00:01<00:00, 13.93it/s, cross_entropy_loss - 1.253, iou_score - 5.872]\n",
      "train: 100%|██████████| 20/20 [00:01<00:00, 13.96it/s, cross_entropy_loss - 1.19, iou_score - 12.38] \n",
      "train: 100%|██████████| 20/20 [00:01<00:00, 14.00it/s, cross_entropy_loss - 1.147, iou_score - 1.097e+03]\n",
      "train: 100%|██████████| 20/20 [00:01<00:00, 13.99it/s, cross_entropy_loss - 1.111, iou_score - -0.9713]\n",
      "train: 100%|██████████| 20/20 [00:01<00:00, 13.92it/s, cross_entropy_loss - 1.079, iou_score - 15.08]\n",
      "train: 100%|██████████| 20/20 [00:01<00:00, 13.86it/s, cross_entropy_loss - 1.047, iou_score - -1.466] \n",
      "train: 100%|██████████| 20/20 [00:01<00:00, 13.97it/s, cross_entropy_loss - 1.045, iou_score - 0.4436]  \n",
      "train: 100%|██████████| 20/20 [00:01<00:00, 13.94it/s, cross_entropy_loss - 1.051, iou_score - -1.828] \n",
      "CPU times: user 19.5 s, sys: 1.01 s, total: 20.5 s\n",
      "Wall time: 1min 3s\n"
     ]
    }
   ],
   "source": [
    "%%time\n",
    "with torch.cuda.device(0):\n",
    "    for i in range(10):\n",
    "        train_epoch.run(loader)"
   ]
  },
  {
   "cell_type": "code",
   "execution_count": 11,
   "id": "a0b01c4a-4929-455e-bb95-894f0a9acebf",
   "metadata": {},
   "outputs": [],
   "source": [
    "import numpy as np\n",
    "import matplotlib.pyplot as plt\n",
    "\n",
    "def visualize(X, y):\n",
    "    fig, (ax1, ax2) = plt.subplots(ncols=2, sharey=True, sharex=True)\n",
    "\n",
    "    with torch.no_grad():\n",
    "        X2 = (X.reshape((1,) + X.shape)).to(\"cuda\")\n",
    "        output = model.predict(X2)\n",
    "    rasterio.plot.show(np.asarray(output[0].argmax(0).to(\"cpu\")), ax=ax1);\n",
    "    rasterio.plot.show(np.asarray(y.to(\"cpu\")), ax=ax2)\n",
    "    return ax1, ax2"
   ]
  },
  {
   "cell_type": "code",
   "execution_count": 12,
   "id": "d86a4fb7-c6c0-4c84-980c-5e1ecfefaa66",
   "metadata": {},
   "outputs": [
    {
     "data": {
      "image/png": "[encoded data removed]",
      "text/plain": [
       "<Figure size 432x288 with 2 Axes>"
      ]
     },
     "metadata": {
      "needs_background": "light"
     },
     "output_type": "display_data"
    }
   ],
   "source": [
    "visualize(*dataset[8]);"
   ]
  },
  {
   "cell_type": "markdown",
   "id": "f6627cdb-08ec-4989-a31f-9d6a1aae1a28",
   "metadata": {},
   "source": [
    "Hmm doesn't seem great. We're just predicting 0 (no crops) a bunch. Bad data? More epochs? More data? Bad architechture? Who knows."
   ]
  },
  {
   "cell_type": "code",
   "execution_count": 13,
   "id": "9dd7a942-8781-4a82-aada-67d809e94b7e",
   "metadata": {},
   "outputs": [
    {
     "name": "stdout",
     "output_type": "stream",
     "text": [
      "train: 100%|██████████| 20/20 [00:01<00:00, 12.83it/s, cross_entropy_loss - 1.012, iou_score - -2.087] \n",
      "train: 100%|██████████| 20/20 [00:01<00:00, 13.88it/s, cross_entropy_loss - 1.027, iou_score - 1.687] \n",
      "train: 100%|██████████| 20/20 [00:01<00:00, 13.89it/s, cross_entropy_loss - 0.9827, iou_score - -0.9721]\n",
      "train: 100%|██████████| 20/20 [00:01<00:00, 13.93it/s, cross_entropy_loss - 1.003, iou_score - -22.14] \n",
      "train: 100%|██████████| 20/20 [00:01<00:00, 13.88it/s, cross_entropy_loss - 0.9641, iou_score - 13.15]\n",
      "train: 100%|██████████| 20/20 [00:01<00:00, 13.84it/s, cross_entropy_loss - 0.9186, iou_score - 1.356] \n",
      "train: 100%|██████████| 20/20 [00:01<00:00, 13.77it/s, cross_entropy_loss - 0.9024, iou_score - -6.286]\n",
      "train: 100%|██████████| 20/20 [00:01<00:00, 13.81it/s, cross_entropy_loss - 0.8551, iou_score - -1.44]  \n",
      "train: 100%|██████████| 20/20 [00:01<00:00, 13.92it/s, cross_entropy_loss - 0.8666, iou_score - -4.69] \n",
      "train: 100%|██████████| 20/20 [00:01<00:00, 13.93it/s, cross_entropy_loss - 0.8673, iou_score - 1.767]  \n",
      "CPU times: user 14.5 s, sys: 115 ms, total: 14.6 s\n",
      "Wall time: 14.6 s\n"
     ]
    }
   ],
   "source": [
    "%%time\n",
    "with torch.cuda.device(0):\n",
    "    for i in range(10):\n",
    "        train_epoch.run(loader)"
   ]
  },
  {
   "cell_type": "code",
   "execution_count": 14,
   "id": "113bf954-c901-4fd7-8703-bb4d8105c84d",
   "metadata": {},
   "outputs": [
    {
     "data": {
      "image/png": "[encoded data removed]",
      "text/plain": [
       "<Figure size 432x288 with 2 Axes>"
      ]
     },
     "metadata": {
      "needs_background": "light"
     },
     "output_type": "display_data"
    }
   ],
   "source": [
    "visualize(*dataset[8]);"
   ]
  },
  {
   "cell_type": "code",
   "execution_count": 15,
   "id": "ca3e1146-6fd0-4cbc-b8dc-d4600cfdbccd",
   "metadata": {},
   "outputs": [
    {
     "data": {
      "image/png": "[encoded data removed]",
      "text/plain": [
       "<Figure size 432x288 with 2 Axes>"
      ]
     },
     "metadata": {
      "needs_background": "light"
     },
     "output_type": "display_data"
    }
   ],
   "source": [
    "visualize(*dataset[0]);"
   ]
  }
 ],
 "metadata": {
  "kernelspec": {
   "display_name": "Python 3 (ipykernel)",
   "language": "python",
   "name": "python3"
  },
  "language_info": {
   "codemirror_mode": {
    "name": "ipython",
    "version": 3
   },
   "file_extension": ".py",
   "mimetype": "text/x-python",
   "name": "python",
   "nbconvert_exporter": "python",
   "pygments_lexer": "ipython3",
   "version": "3.8.10"
  }
 },
 "nbformat": 4,
 "nbformat_minor": 5
}
