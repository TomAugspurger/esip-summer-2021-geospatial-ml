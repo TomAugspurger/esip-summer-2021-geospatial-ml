{
 "cells": [
  {
   "cell_type": "markdown",
   "id": "e78e059b",
   "metadata": {},
   "source": [
    "## Train a Segmentation Model\n",
    "\n",
    "This notebook trains a segmentation model (using [segmentation-models-pytorch](https://smp.readthedocs.io/en/latest/index.html)) on some [Sentinel-2](https://planetarycomputer.microsoft.com/dataset/sentinel-2-l2a) data using crop labels from Radiant Earth's [South Africa Crop Type Competition](http://registry.mlhub.earth/10.34911/rdnt.j0co8q/)."
   ]
  },
  {
   "cell_type": "code",
   "execution_count": null,
   "id": "f48e355c",
   "metadata": {},
   "outputs": [],
   "source": [
    "import pystac\n",
    "import pystac_client\n",
    "import requests\n",
    "import shapely.geometry\n",
    "import rioxarray\n",
    "import planetary_computer\n",
    "import stackstac\n",
    "import torch\n",
    "import torch.utils.data\n",
    "import rasterio.plot\n",
    "import numpy as np\n",
    "import dask\n",
    "\n",
    "import warnings\n",
    "\n",
    "warnings.filterwarnings(\"ignore\", \"Creating an ndarray from ragged\")"
   ]
  },
  {
   "cell_type": "markdown",
   "id": "e3cf0663",
   "metadata": {},
   "source": [
    "We'll use the same STAC catalog for the labels that we used previously."
   ]
  },
  {
   "cell_type": "code",
   "execution_count": null,
   "id": "d8e614da",
   "metadata": {},
   "outputs": [],
   "source": [
    "training_catalog = pystac.read_file(\n",
    "    \"https://esip2021.blob.core.windows.net/esip2021/train/collection.json\"\n",
    ")"
   ]
  },
  {
   "cell_type": "markdown",
   "id": "8d15e36f",
   "metadata": {},
   "source": [
    "And we'll process the data in parallel (on a single machine) using Dask."
   ]
  },
  {
   "cell_type": "code",
   "execution_count": null,
   "id": "9e225e4b",
   "metadata": {},
   "outputs": [],
   "source": [
    "from dask.distributed import Client\n",
    "\n",
    "client = Client()\n",
    "client.run(lambda: warnings.filterwarnings(\"ignore\", \"Creating an ndarray from ragged\"))\n",
    "client"
   ]
  },
  {
   "cell_type": "markdown",
   "id": "291ad1f7",
   "metadata": {},
   "source": [
    "Make sure to open that link in the dashboard or dask labextension."
   ]
  },
  {
   "cell_type": "markdown",
   "id": "25eb0518",
   "metadata": {},
   "source": [
    "## Load Training STAC Items\n",
    "\n",
    "In the last notebook, we worked with a single STAC item / scene for the `labels`. To better generalize to more fields, we'll now load a bunch of them. To cut down on the time we spend waiting for data loading and training, we'll work with just the first 100 items."
   ]
  },
  {
   "cell_type": "code",
   "execution_count": null,
   "id": "f1f63f63",
   "metadata": {},
   "outputs": [],
   "source": [
    "N_SCENES = 100\n",
    "links = training_catalog.get_item_links()[:N_SCENES]\n",
    "\n",
    "\n",
    "@dask.delayed\n",
    "def get_label_item(link):\n",
    "    link.resolve_stac_object()\n",
    "    return link.target\n",
    "\n",
    "\n",
    "links = [get_label_item(link) for link in links]\n",
    "label_items = dask.compute(*links)"
   ]
  },
  {
   "cell_type": "markdown",
   "id": "f87e117b",
   "metadata": {},
   "source": [
    "We can plot the first item:"
   ]
  },
  {
   "cell_type": "code",
   "execution_count": null,
   "id": "41767603",
   "metadata": {},
   "outputs": [],
   "source": [
    "label_item = next(training_catalog.get_all_items())\n",
    "\n",
    "rasterio.plot.show(rasterio.open(label_item.assets[\"labels\"].href));"
   ]
  },
  {
   "cell_type": "markdown",
   "id": "160039a0",
   "metadata": {},
   "source": [
    "Let's also load the names of each integer label code, which are common across all the items."
   ]
  },
  {
   "cell_type": "code",
   "execution_count": null,
   "id": "2de52ca8-18d9-4744-bd68-38807da13465",
   "metadata": {},
   "outputs": [],
   "source": [
    "labels = requests.get(label_item.assets[\"raster_values\"].href).json()\n",
    "labels"
   ]
  },
  {
   "cell_type": "code",
   "execution_count": null,
   "id": "554e8106-28f7-4c37-b554-7d94249f0b07",
   "metadata": {},
   "outputs": [],
   "source": [
    "from ipyleaflet import Map, GeoJSON\n",
    "\n",
    "data = {\n",
    "    \"type\": \"FeatureCollection\",\n",
    "    \"features\": [],\n",
    "}\n",
    "for label_item in label_items:\n",
    "    data[\"features\"].append(label_item.geometry)\n",
    "\n",
    "\n",
    "center = shapely.geometry.shape(label_item.geometry).centroid.bounds[:2][::-1]\n",
    "\n",
    "m = Map(center=(-32.5, 18.5), zoom=7)\n",
    "layer = GeoJSON(data=data)\n",
    "\n",
    "m.add_layer(layer)\n",
    "m.layout.max_width = \"600px\"\n",
    "\n",
    "m"
   ]
  },
  {
   "cell_type": "markdown",
   "id": "cf97c7f9",
   "metadata": {},
   "source": [
    "## Load the Sentinel-2 Scenes\n",
    "\n",
    "Just like before, we'll find a \"good\" (not too cloudy) Sentinel 2 scene using the Planetary Computer's STAC API. But remeber that we're dealing with a whole bunch of `label` scenes now, rather than just one. Because Sentinel scenes are so much larger that the `labels` chips, we'll do a single search rather than many small ones.\n",
    "\n",
    "First, let's verify that all the `labels` chips have the same datetime:"
   ]
  },
  {
   "cell_type": "code",
   "execution_count": null,
   "id": "e0799ff6",
   "metadata": {},
   "outputs": [],
   "source": [
    "# all the labels are from the same datetime\n",
    "set([label_item.datetime for label_item in label_items])"
   ]
  },
  {
   "cell_type": "markdown",
   "id": "a2530ddb",
   "metadata": {},
   "source": [
    "Now, let's compute a big bounding box that covers all the `labels` chips."
   ]
  },
  {
   "cell_type": "code",
   "execution_count": null,
   "id": "809407c9",
   "metadata": {},
   "outputs": [],
   "source": [
    "bboxes = np.array([label_item.bbox for label_item in label_items])\n",
    "mins = bboxes.min(0)\n",
    "maxes = bboxes.max(0)\n",
    "bbox = mins[0], mins[1], maxes[2], maxes[3]"
   ]
  },
  {
   "cell_type": "markdown",
   "id": "e0d44f7a",
   "metadata": {},
   "source": [
    "### Exercise: Find the STAC items\n",
    "\n",
    "Find all the STAC items from `sentinel-2-l2a` within that bounding box for 31 days before and after the labels were created. Look back at our previous notebook if you need help."
   ]
  },
  {
   "cell_type": "code",
   "execution_count": null,
   "id": "70de14b3",
   "metadata": {},
   "outputs": [],
   "source": [
    "# create the STAC client\n",
    "stac_client = pystac_client.Client.open(\n",
    "    \"https://planetarycomputer.microsoft.com/api/stac/v1/\"\n",
    ")\n",
    "\n",
    "date_range = \"2017-07-01/2017-09-01\"\n",
    "\n",
    "search = stac_client.search(\n",
    "    collections=[\"sentinel-2-l2a\"],\n",
    "    bbox=bbox,\n",
    "    datetime=date_range,\n",
    "    limit=500,\n",
    ")\n",
    "sentinel_items = list(search.get_all_items())\n",
    "len(sentinel_items)"
   ]
  },
  {
   "cell_type": "markdown",
   "id": "01ccd3be",
   "metadata": {},
   "source": [
    "## Load the Data\n",
    "\n",
    "How best to get data from storage to the GPU is a large topic. We're going to take the easy way out and just load all the data into memory up front. This won't work if the entire dataset is larger than memory.\n",
    "\n",
    "We'll write a couple helper functions to\n",
    "\n",
    "1. Find the best Sentinel item for a given `labels` chip (\"best\" meaning the sentinel scene covers the chip, doesn't have many clouds)\n",
    "2. Load the `assets` from the best Sentinel item into a DataArray"
   ]
  },
  {
   "cell_type": "code",
   "execution_count": null,
   "id": "d8208208",
   "metadata": {},
   "outputs": [],
   "source": [
    "def find_match(label_item, sentinel_items):\n",
    "    # make sure we we don't pick a scene that just partially overlaps\n",
    "    label_shape = shapely.geometry.shape(label_item.geometry)\n",
    "    items2 = [\n",
    "        item\n",
    "        for item in sentinel_items\n",
    "        if (\n",
    "            shapely.geometry.shape(item.geometry).intersection(label_shape).area\n",
    "            / label_shape.area\n",
    "        )\n",
    "        > 0.9\n",
    "    ]\n",
    "    sentinel_item = sorted(\n",
    "        items2, key=lambda item: pystac.extensions.eo.EOExtension.ext(item).cloud_cover\n",
    "    )[0]\n",
    "    return sentinel_item\n",
    "\n",
    "\n",
    "def get_item(label_item, sentinel_items, assets):\n",
    "    assets = list(assets)\n",
    "    labels = rioxarray.open_rasterio(\n",
    "        label_item.assets[\"labels\"].href,\n",
    "    ).squeeze()\n",
    "\n",
    "    sentinel_item = find_match(label_item, sentinel_items)\n",
    "    bounds = tuple(round(x, 0) for x in labels.rio.bounds())\n",
    "\n",
    "    data = (\n",
    "        stackstac.stack(\n",
    "            planetary_computer.sign(sentinel_item).to_dict(),\n",
    "            assets=assets,\n",
    "            dtype=\"float32\",\n",
    "            resolution=10,\n",
    "            bounds=bounds,\n",
    "            epsg=labels.rio.crs.to_epsg(),\n",
    "        )\n",
    "        .squeeze()\n",
    "        .compute(scheduler=\"single-threaded\")\n",
    "    )\n",
    "\n",
    "    assert data.shape[1:] == labels.shape\n",
    "    data = data.assign_coords(x=labels.x.data, y=labels.y.data)\n",
    "    data /= 4000\n",
    "    data = np.clip(data, 0, 1)\n",
    "    return data, labels.astype(\"int64\")"
   ]
  },
  {
   "cell_type": "markdown",
   "id": "fd5da980",
   "metadata": {},
   "source": [
    "That takes a bit of time, so we'll do it in parallel using Dask. For this kind of ad-hoc parallelism, `dask.delayed` is a nice option."
   ]
  },
  {
   "cell_type": "code",
   "execution_count": null,
   "id": "06e381a5",
   "metadata": {},
   "outputs": [],
   "source": [
    "get_item_ = dask.delayed(get_item, nout=2)\n",
    "assets = (\"B03\", \"B04\", \"B05\")\n",
    "\n",
    "Xys = [get_item_(label_item, sentinel_items, assets) for label_item in label_items]\n",
    "Xys = dask.persist(*Xys)"
   ]
  },
  {
   "cell_type": "code",
   "execution_count": null,
   "id": "4b7041e5",
   "metadata": {},
   "outputs": [],
   "source": [
    "Xys = dask.compute(*Xys)"
   ]
  },
  {
   "cell_type": "markdown",
   "id": "29b88bd9",
   "metadata": {},
   "source": [
    "We'll wrap that up in a small pytorch Dataset class.."
   ]
  },
  {
   "cell_type": "code",
   "execution_count": null,
   "id": "cafa0018",
   "metadata": {},
   "outputs": [],
   "source": [
    "class STACDataset(torch.utils.data.Dataset):\n",
    "    def __init__(self, data):\n",
    "        self.data = data\n",
    "\n",
    "    def __len__(self):\n",
    "        return len(self.data)\n",
    "\n",
    "    def __getitem__(self, idx):\n",
    "        X, y = self.data[idx]\n",
    "        X = torch.as_tensor(X.data)\n",
    "        y = torch.as_tensor(y.data)\n",
    "        return X, y\n",
    "\n",
    "\n",
    "dataset = STACDataset(Xys)\n",
    "loader = torch.utils.data.DataLoader(dataset, batch_size=10)"
   ]
  },
  {
   "cell_type": "markdown",
   "id": "ff2728d1",
   "metadata": {},
   "source": [
    "## Model Definition\n",
    "\n",
    "Now let's define our segmentation model (thanks to Caleb Robinson, a data scientist from Microsoft's AI for Good program, for help with the loader and the model)."
   ]
  },
  {
   "cell_type": "code",
   "execution_count": null,
   "id": "585a099c",
   "metadata": {},
   "outputs": [],
   "source": [
    "import segmentation_models_pytorch as smp\n",
    "import torch\n",
    "\n",
    "model = smp.Unet(\n",
    "    encoder_name=\"resnet18\",\n",
    "    in_channels=len(assets),\n",
    "    classes=len(labels),\n",
    ")\n",
    "\n",
    "loss = smp.utils.losses.CrossEntropyLoss()\n",
    "optimizer = torch.optim.Adam(list(model.parameters()))\n",
    "metrics = [\n",
    "    smp.utils.metrics.IoU(threshold=0.5),\n",
    "]\n",
    "\n",
    "train_epoch = smp.utils.train.TrainEpoch(\n",
    "    model,\n",
    "    loss=loss,\n",
    "    metrics=metrics,\n",
    "    optimizer=optimizer,\n",
    "    device=\"cuda:0\",\n",
    "    verbose=True,\n",
    ")"
   ]
  },
  {
   "cell_type": "markdown",
   "id": "c798f345",
   "metadata": {},
   "source": [
    "## Training\n",
    "\n",
    "Let's start training the model."
   ]
  },
  {
   "cell_type": "code",
   "execution_count": null,
   "id": "9bdfaed2",
   "metadata": {},
   "outputs": [],
   "source": [
    "%%time\n",
    "with torch.cuda.device(0):\n",
    "    train_epoch.run(loader)"
   ]
  },
  {
   "cell_type": "code",
   "execution_count": null,
   "id": "a67e32ba",
   "metadata": {},
   "outputs": [],
   "source": [
    "import numpy as np\n",
    "import matplotlib.pyplot as plt\n",
    "\n",
    "\n",
    "def visualize(X, y):\n",
    "    with torch.no_grad():\n",
    "        X2 = (X.reshape((1,) + X.shape)).to(\"cuda\")\n",
    "        output = model.predict(X2)\n",
    "\n",
    "    data = np.asarray(X.to(\"cpu\"))[0]  # just the first band\n",
    "    output = np.asarray(output[0].argmax(0).to(\"cpu\"))\n",
    "\n",
    "    fig, (ax1, ax2, ax3) = plt.subplots(ncols=3, sharey=True, sharex=True)\n",
    "\n",
    "    ax1.imshow(data, cmap=\"gray\")\n",
    "\n",
    "    rasterio.plot.show(np.asarray(y.to(\"cpu\")), ax=ax2)\n",
    "    rasterio.plot.show(output, ax=ax3)\n",
    "\n",
    "    return ax1, ax2, ax3"
   ]
  },
  {
   "cell_type": "code",
   "execution_count": null,
   "id": "5bb268ca",
   "metadata": {},
   "outputs": [],
   "source": [
    "for i in range(10):\n",
    "    visualize(*dataset[i]);"
   ]
  },
  {
   "cell_type": "markdown",
   "id": "87a9db18",
   "metadata": {},
   "source": [
    "You might want to open up the \"GPU Resources\" tab from the `jupyyterlab-nvdashbard` extension to confirm that we're saturating the GPU.\n",
    "\n",
    "Train it a bit longer."
   ]
  },
  {
   "cell_type": "code",
   "execution_count": null,
   "id": "40c89374",
   "metadata": {},
   "outputs": [],
   "source": [
    "%%time\n",
    "with torch.cuda.device(0):\n",
    "    for i in range(80):\n",
    "        train_epoch.run(loader)\n",
    "        print(i, end=\"\\r\\n\")"
   ]
  },
  {
   "cell_type": "code",
   "execution_count": null,
   "id": "a89d9f2c",
   "metadata": {},
   "outputs": [],
   "source": [
    "for i in range(10):\n",
    "    visualize(*dataset[i]);"
   ]
  },
  {
   "cell_type": "markdown",
   "id": "0fd1ea9e",
   "metadata": {},
   "source": [
    "### Exercise: Play around!\n",
    "\n",
    "In the remaining time, I encourage you to play around with the data preprocessing and model architecture. See what you can do."
   ]
  }
 ],
 "metadata": {
  "kernelspec": {
   "display_name": "Python 3 (ipykernel)",
   "language": "python",
   "name": "python3"
  },
  "language_info": {
   "codemirror_mode": {
    "name": "ipython",
    "version": 3
   },
   "file_extension": ".py",
   "mimetype": "text/x-python",
   "name": "python",
   "nbconvert_exporter": "python",
   "pygments_lexer": "ipython3",
   "version": "3.8.10"
  }
 },
 "nbformat": 4,
 "nbformat_minor": 5
}
