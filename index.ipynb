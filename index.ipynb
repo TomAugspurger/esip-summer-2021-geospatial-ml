{
 "cells": [
  {
   "cell_type": "markdown",
   "id": "2de2c6d8",
   "metadata": {},
   "source": [
    "# Scalable Geospatial Machine Learning with Dask and STAC\n",
    "\n",
    "Welcome to the tutorial! We'll work through two notebooks:\n",
    "\n",
    "1. [crop-landcover-explore.ipynb](crop-landcover-explore.ipynb)\n",
    "2. [segmentation-model.ipynb](segmentation-model.ipynb)\n",
    "\n",
    "Go ahead and open the first notebook.\n",
    "\n",
    "Hub URL: https://esip2021.westeurope.cloudapp.azure.com/\n",
    "\n",
    "Materials: https://github.com/TomAugspurger/esip-summer-2021-geospatial-ml"
   ]
  }
 ],
 "metadata": {
  "kernelspec": {
   "display_name": "Python 3 (ipykernel)",
   "language": "python",
   "name": "python3"
  },
  "language_info": {
   "codemirror_mode": {
    "name": "ipython",
    "version": 3
   },
   "file_extension": ".py",
   "mimetype": "text/x-python",
   "name": "python",
   "nbconvert_exporter": "python",
   "pygments_lexer": "ipython3",
   "version": "3.8.10"
  }
 },
 "nbformat": 4,
 "nbformat_minor": 5
}
